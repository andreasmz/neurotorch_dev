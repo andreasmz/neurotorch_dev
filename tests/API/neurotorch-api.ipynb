{
 "cells": [
  {
   "cell_type": "markdown",
   "id": "46e74b2c",
   "metadata": {},
   "source": [
    "# Neurotorch API Tests\n",
    "\n",
    "This notebook contains code to test the Neurotorch API"
   ]
  },
  {
   "cell_type": "markdown",
   "id": "ce4e49c0",
   "metadata": {},
   "source": [
    "### 0 Imports"
   ]
  },
  {
   "cell_type": "code",
   "execution_count": 1,
   "id": "4bc89100",
   "metadata": {},
   "outputs": [],
   "source": [
    "import numpy as np\n",
    "import matplotlib.pyplot as plt\n",
    "from pathlib import Path\n",
    "import os\n",
    "import sys"
   ]
  },
  {
   "cell_type": "code",
   "execution_count": 2,
   "id": "5dbc0758",
   "metadata": {},
   "outputs": [],
   "source": [
    "# SETTINGS\n",
    "\n",
    "# If the IMPORT_PATH variable is not none, the module will be imported from the given path\n",
    "IMPORT_PATH: Path|None = Path(\"../../../neurotorch\")"
   ]
  },
  {
   "cell_type": "code",
   "execution_count": 3,
   "id": "55407999",
   "metadata": {},
   "outputs": [
    {
     "name": "stderr",
     "output_type": "stream",
     "text": [
      "[2025-08-12 15:50:52,843 DEBUG]: Started debugging\n",
      "[2025-08-12 15:50:52,845 DEBUG]: Found 'apache-maven-3.9.11' in the AppData folder and added 'C:\\Users\\ABril\\AppData\\Local\\andreasmz\\NeurotorchMZ\\environment\\apache-maven-3.9.11\\bin' temporarily to PATH\n",
      "[2025-08-12 15:50:52,851 DEBUG]: Found 'jdk-24.0.2' in the AppData folder, created JAVA_HOME and added 'C:\\Users\\ABril\\AppData\\Local\\andreasmz\\NeurotorchMZ\\environment\\jdk-24.0.2\\bin' temporarily to PATH\n",
      "[2025-08-12 15:50:54,637 DEBUG]: Loaded plugin neurotorchmz.plugins.pyimage_j\n",
      "[2025-08-12 15:50:54,637 DEBUG]: Loaded plugin neurotorchmz.plugins.test_plugin\n",
      "[2025-08-12 15:50:54,642 ERROR]: Failed to import plugin neurotorchmz.plugins.trace_selector: The plugin is missing the __plugin_name__ string\n"
     ]
    },
    {
     "name": "stdout",
     "output_type": "stream",
     "text": [
      "Imported neurotorchmz version 25.8.1\n"
     ]
    }
   ],
   "source": [
    "if IMPORT_PATH is not None:\n",
    "    if not IMPORT_PATH.exists():\n",
    "        raise FileExistsError()\n",
    "    sys.path.insert(1, str(IMPORT_PATH))\n",
    "os.environ[\"NEUROTORCH_DEBUG\"] = \"True\"\n",
    "import neurotorchmz\n",
    "from neurotorchmz import Session\n",
    "from neurotorchmz.core.session import *\n",
    "from neurotorchmz.utils.synapse_detection import *\n",
    "\n",
    "print(\"Imported neurotorchmz version\", neurotorchmz.__version__)"
   ]
  },
  {
   "cell_type": "code",
   "execution_count": null,
   "id": "a97e3c43",
   "metadata": {},
   "outputs": [
    {
     "name": "stderr",
     "output_type": "stream",
     "text": [
      "[2025-08-12 15:50:57,355 DEBUG]: Testplugin noticed that the session started\n",
      "[2025-08-12 15:50:57,458 INFO]: Started NeurotorchMZ (GUI) version 25.8.1\n"
     ]
    },
    {
     "name": "stderr",
     "output_type": "stream",
     "text": [
      "[2025-08-12 15:51:13,043 DEBUG]: Opening '+40118_CS1-2_37a+47_iGlu_denoised_only_stimulation_compressed.tiff' with tifffile\n",
      "[2025-08-12 15:51:13,117 DEBUG]: Calculating mean view for AxisImage '+40118_CS1-2_37a+47_iGlu_denoised_only_stimulation_compressed.tiff-default-img' on axis '(0,)'\n",
      "[2025-08-12 15:51:13,127 DEBUG]: Calculating std view for AxisImage '+40118_CS1-2_37a+47_iGlu_denoised_only_stimulation_compressed.tiff-default-img' on axis '(0,)'\n",
      "[2025-08-12 15:51:13,295 DEBUG]: Calculating max view for AxisImage '+40118_CS1-2_37a+47_iGlu_denoised_only_stimulation_compressed.tiff-default-img_diff' on axis '(0,)'\n",
      "[2025-08-12 15:51:13,299 DEBUG]: Calculating std view for AxisImage '+40118_CS1-2_37a+47_iGlu_denoised_only_stimulation_compressed.tiff-default-img_diff' on axis '(0,)'\n",
      "[2025-08-12 15:51:13,403 DEBUG]: Calculating max view for AxisImage '+40118_CS1-2_37a+47_iGlu_denoised_only_stimulation_compressed.tiff-default-img_diff' on axis '(1, 2)'\n",
      "[2025-08-12 15:51:13,406 DEBUG]: Calculating std view for AxisImage '+40118_CS1-2_37a+47_iGlu_denoised_only_stimulation_compressed.tiff-default-img_diff' on axis '(1, 2)'\n",
      "[2025-08-12 15:51:13,508 DEBUG]: '+40118_CS1-2_37a+47_iGlu_denoised_only_stimulation_compressed.tiff' is now the active ImageObject\n",
      "[2025-08-12 15:51:15,759 DEBUG]: Calculating max view for AxisImage '+40118_CS1-2_37a+47_iGlu_denoised_only_stimulation_compressed.tiff-combined_diff_convolution{'xy_kernel_fn': None, 'xy_kernel_args': {}, 't_kernel_fn': <function drop_t_kernel at 0x00000262B89A3BA0>, 't_kernel_args': {}}-img_diff' on axis '(0,)'\n",
      "[2025-08-12 15:51:15,759 DEBUG]: Calculating std view for AxisImage '+40118_CS1-2_37a+47_iGlu_denoised_only_stimulation_compressed.tiff-combined_diff_convolution{'xy_kernel_fn': None, 'xy_kernel_args': {}, 't_kernel_fn': <function drop_t_kernel at 0x00000262B89A3BA0>, 't_kernel_args': {}}-img_diff' on axis '(0,)'\n",
      "[2025-08-12 15:51:15,872 DEBUG]: Calculating max view for AxisImage '+40118_CS1-2_37a+47_iGlu_denoised_only_stimulation_compressed.tiff-combined_diff_convolution{'xy_kernel_fn': None, 'xy_kernel_args': {}, 't_kernel_fn': <function drop_t_kernel at 0x00000262B89A3BA0>, 't_kernel_args': {}}-img_diff' on axis '(1, 2)'\n",
      "[2025-08-12 15:51:15,872 DEBUG]: Calculating std view for AxisImage '+40118_CS1-2_37a+47_iGlu_denoised_only_stimulation_compressed.tiff-combined_diff_convolution{'xy_kernel_fn': None, 'xy_kernel_args': {}, 't_kernel_fn': <function drop_t_kernel at 0x00000262B89A3BA0>, 't_kernel_args': {}}-img_diff' on axis '(1, 2)'\n",
      "[2025-08-12 15:53:03,371 DEBUG]: Calculating max view for AxisImage '+40118_CS1-2_37a+47_iGlu_denoised_only_stimulation_compressed.tiff-combined_diff_convolution{'xy_kernel_fn': None, 'xy_kernel_args': {}, 't_kernel_fn': None, 't_kernel_args': {}}-img_diff' on axis '(0,)'\n",
      "[2025-08-12 15:53:03,371 DEBUG]: Calculating std view for AxisImage '+40118_CS1-2_37a+47_iGlu_denoised_only_stimulation_compressed.tiff-combined_diff_convolution{'xy_kernel_fn': None, 'xy_kernel_args': {}, 't_kernel_fn': None, 't_kernel_args': {}}-img_diff' on axis '(0,)'\n",
      "[2025-08-12 15:53:03,501 DEBUG]: Calculating max view for AxisImage '+40118_CS1-2_37a+47_iGlu_denoised_only_stimulation_compressed.tiff-combined_diff_convolution{'xy_kernel_fn': None, 'xy_kernel_args': {}, 't_kernel_fn': None, 't_kernel_args': {}}-img_diff' on axis '(1, 2)'\n",
      "[2025-08-12 15:53:03,503 DEBUG]: Calculating std view for AxisImage '+40118_CS1-2_37a+47_iGlu_denoised_only_stimulation_compressed.tiff-combined_diff_convolution{'xy_kernel_fn': None, 'xy_kernel_args': {}, 't_kernel_fn': None, 't_kernel_args': {}}-img_diff' on axis '(1, 2)'\n"
     ]
    }
   ],
   "source": [
    "session = neurotorchmz.start_background(edition=neurotorchmz.Edition.NEUROTORCH_DEBUG)"
   ]
  },
  {
   "cell_type": "code",
   "execution_count": null,
   "id": "50e0f292",
   "metadata": {},
   "outputs": [],
   "source": [
    "# Run everything above this cell"
   ]
  },
  {
   "cell_type": "markdown",
   "id": "3f1161d4",
   "metadata": {},
   "source": [
    "### Session tests"
   ]
  },
  {
   "cell_type": "code",
   "execution_count": null,
   "id": "401bae05",
   "metadata": {},
   "outputs": [],
   "source": [
    "session2 = Session(edition=neurotorchmz.Edition.NEUROTORCH_DEBUG)"
   ]
  },
  {
   "cell_type": "code",
   "execution_count": null,
   "id": "e2bb133c",
   "metadata": {},
   "outputs": [],
   "source": [
    "session2.launch(background=True)"
   ]
  },
  {
   "cell_type": "markdown",
   "id": "a4335d4e",
   "metadata": {},
   "source": [
    "### Detection results tests"
   ]
  },
  {
   "cell_type": "code",
   "execution_count": null,
   "id": "fda90fb3",
   "metadata": {},
   "outputs": [],
   "source": [
    "dt = session.roifinder_detection_result"
   ]
  },
  {
   "cell_type": "code",
   "execution_count": null,
   "id": "08fa1970",
   "metadata": {},
   "outputs": [],
   "source": [
    "session.roifinder_detection_result"
   ]
  },
  {
   "cell_type": "code",
   "execution_count": null,
   "id": "657d2c1e",
   "metadata": {},
   "outputs": [],
   "source": [
    "dt.append(SingleframeSynapse())"
   ]
  },
  {
   "cell_type": "code",
   "execution_count": null,
   "id": "be213d9e",
   "metadata": {},
   "outputs": [],
   "source": [
    "dt.append(MultiframeSynapse())"
   ]
  },
  {
   "cell_type": "code",
   "execution_count": null,
   "id": "6d737ba1",
   "metadata": {},
   "outputs": [],
   "source": [
    "dt[0].rois.append(PolygonalSynapseROI())"
   ]
  },
  {
   "cell_type": "code",
   "execution_count": null,
   "id": "731dbe42",
   "metadata": {},
   "outputs": [],
   "source": [
    "dt[3].rois.append(CircularSynapseROI().set_location(x=10,y=20).set_radius(10).set_frame(0))"
   ]
  },
  {
   "cell_type": "code",
   "execution_count": null,
   "id": "ca704bdc",
   "metadata": {},
   "outputs": [],
   "source": [
    "for s in dt:\n",
    "    print(repr(s))"
   ]
  },
  {
   "cell_type": "code",
   "execution_count": null,
   "id": "ea60e005",
   "metadata": {},
   "outputs": [],
   "source": [
    "dt[0].staged = False"
   ]
  },
  {
   "cell_type": "code",
   "execution_count": null,
   "id": "7eda292f",
   "metadata": {},
   "outputs": [],
   "source": [
    "dt.clear_where(lambda s: not s.staged)"
   ]
  },
  {
   "cell_type": "markdown",
   "id": "3ca0731f",
   "metadata": {},
   "source": [
    "### Convolution filters"
   ]
  },
  {
   "cell_type": "code",
   "execution_count": 6,
   "id": "e1c15978",
   "metadata": {},
   "outputs": [],
   "source": [
    "imgObj = session.active_image_object"
   ]
  },
  {
   "cell_type": "code",
   "execution_count": null,
   "id": "c4670cfb",
   "metadata": {},
   "outputs": [],
   "source": [
    "print(imgObj.img_diff_raw)"
   ]
  },
  {
   "cell_type": "code",
   "execution_count": 17,
   "id": "f399fca2",
   "metadata": {},
   "outputs": [
    {
     "name": "stdout",
     "output_type": "stream",
     "text": [
      "[[[ 1  0  0 ... -1 -1 -1]\n",
      "  [ 1  1  0 ... -2 -2 -1]\n",
      "  [ 0  1  0 ... -1  0  0]\n",
      "  ...\n",
      "  [ 0  0  0 ...  0  0  0]\n",
      "  [ 0  0  0 ...  0 -1  0]\n",
      "  [ 0  1  0 ...  0 -1  0]]\n",
      "\n",
      " [[-1  0  0 ...  1  1  1]\n",
      "  [ 0 -1  0 ...  1  1  1]\n",
      "  [-1 -1  0 ...  0  0  0]\n",
      "  ...\n",
      "  [ 0  0  0 ...  0  0  0]\n",
      "  [ 0  0  0 ...  0  1  0]\n",
      "  [ 0 -1  0 ...  0  1  0]]\n",
      "\n",
      " [[ 1  0  0 ...  0  0  0]\n",
      "  [ 0  1  0 ...  1  0  0]\n",
      "  [ 1  1  0 ...  1  0  0]\n",
      "  ...\n",
      "  [ 0  0  0 ...  0  0  0]\n",
      "  [ 0  0  0 ...  1  0  0]\n",
      "  [ 0  1  0 ...  0  0  0]]\n",
      "\n",
      " ...\n",
      "\n",
      " [[ 0  1  1 ... -1  0 -1]\n",
      "  [ 1  1  2 ... -1 -1 -1]\n",
      "  [ 1  1  1 ... -2 -2 -1]\n",
      "  ...\n",
      "  [ 5  5  5 ...  1  1  0]\n",
      "  [ 4  5  5 ...  1  0  1]\n",
      "  [ 4  3  5 ...  0  0  0]]\n",
      "\n",
      " [[ 0 -1  1 ...  0 -1  0]\n",
      "  [ 0 -1  0 ...  0 -1  0]\n",
      "  [ 0  0  0 ...  0  0  0]\n",
      "  ...\n",
      "  [ 0  1  1 ... -1  0  0]\n",
      "  [ 1  0  1 ... -1  0  0]\n",
      "  [ 0  1  0 ...  0  0  0]]\n",
      "\n",
      " [[ 0  1  0 ...  0  1  0]\n",
      "  [ 0  0 -1 ...  1  2  1]\n",
      "  [-1 -1  0 ...  2  2  1]\n",
      "  ...\n",
      "  [ 0  0 -1 ...  0 -1  0]\n",
      "  [ 0  0  0 ...  0  0  0]\n",
      "  [ 0  0  0 ...  0  0  0]]]\n"
     ]
    }
   ],
   "source": [
    "print(imgObj.imgDiff)"
   ]
  },
  {
   "cell_type": "code",
   "execution_count": null,
   "id": "5d3e2e7b",
   "metadata": {},
   "outputs": [],
   "source": [
    "img = imgObj.imgDiffView(ImageView.SPATIAL).Min\n",
    "\n",
    "plt.imshow(img)\n",
    "plt.show()"
   ]
  }
 ],
 "metadata": {
  "kernelspec": {
   "display_name": "agheine",
   "language": "python",
   "name": "python3"
  },
  "language_info": {
   "codemirror_mode": {
    "name": "ipython",
    "version": 3
   },
   "file_extension": ".py",
   "mimetype": "text/x-python",
   "name": "python",
   "nbconvert_exporter": "python",
   "pygments_lexer": "ipython3",
   "version": "3.11.13"
  }
 },
 "nbformat": 4,
 "nbformat_minor": 5
}
