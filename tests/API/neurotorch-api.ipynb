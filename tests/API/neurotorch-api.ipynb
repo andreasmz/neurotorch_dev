{
 "cells": [
  {
   "cell_type": "markdown",
   "id": "46e74b2c",
   "metadata": {},
   "source": [
    "# Neurotorch API Tests\n",
    "\n",
    "This notebook contains code to test the Neurotorch API"
   ]
  },
  {
   "cell_type": "markdown",
   "id": "ce4e49c0",
   "metadata": {},
   "source": [
    "### 0 Imports"
   ]
  },
  {
   "cell_type": "code",
   "execution_count": null,
   "id": "4bc89100",
   "metadata": {},
   "outputs": [],
   "source": [
    "import numpy as np\n",
    "import matplotlib.pyplot as plt\n",
    "from pathlib import Path\n",
    "import os\n",
    "import sys"
   ]
  },
  {
   "cell_type": "code",
   "execution_count": null,
   "id": "5dbc0758",
   "metadata": {},
   "outputs": [],
   "source": [
    "# SETTINGS\n",
    "\n",
    "# If the IMPORT_PATH variable is not none, the module will be imported from the given path\n",
    "IMPORT_PATH: Path|None = Path(\"../../../neurotorch\")"
   ]
  },
  {
   "cell_type": "code",
   "execution_count": null,
   "id": "55407999",
   "metadata": {},
   "outputs": [],
   "source": [
    "if IMPORT_PATH is not None:\n",
    "    if not IMPORT_PATH.exists():\n",
    "        raise FileExistsError()\n",
    "    sys.path.insert(1, str(IMPORT_PATH))\n",
    "os.environ[\"NEUROTORCH_DEBUG\"] = \"True\"\n",
    "import neurotorchmz\n",
    "from neurotorchmz import Session\n",
    "from neurotorchmz.core.session import *\n",
    "from neurotorchmz.utils.synapse_detection import *\n",
    "\n",
    "print(\"Imported neurotorchmz version\", neurotorchmz.__version__)"
   ]
  },
  {
   "cell_type": "code",
   "execution_count": null,
   "id": "a97e3c43",
   "metadata": {},
   "outputs": [],
   "source": [
    "session = neurotorchmz.start_background(edition=neurotorchmz.Edition.NEUROTORCH_DEBUG)"
   ]
  },
  {
   "cell_type": "code",
   "execution_count": null,
   "id": "50e0f292",
   "metadata": {},
   "outputs": [],
   "source": [
    "# Run everything above this cell"
   ]
  },
  {
   "cell_type": "markdown",
   "id": "3f1161d4",
   "metadata": {},
   "source": [
    "### Session tests"
   ]
  },
  {
   "cell_type": "code",
   "execution_count": null,
   "id": "401bae05",
   "metadata": {},
   "outputs": [],
   "source": [
    "session2 = Session(edition=neurotorchmz.Edition.NEUROTORCH_DEBUG)"
   ]
  },
  {
   "cell_type": "code",
   "execution_count": null,
   "id": "e2bb133c",
   "metadata": {},
   "outputs": [],
   "source": [
    "session2.launch(background=True)"
   ]
  },
  {
   "cell_type": "markdown",
   "id": "a4335d4e",
   "metadata": {},
   "source": [
    "### Detection results tests"
   ]
  },
  {
   "cell_type": "code",
   "execution_count": null,
   "id": "fda90fb3",
   "metadata": {},
   "outputs": [],
   "source": [
    "dt = session.roifinder_detection_result"
   ]
  },
  {
   "cell_type": "code",
   "execution_count": null,
   "id": "08fa1970",
   "metadata": {},
   "outputs": [],
   "source": [
    "session.roifinder_detection_result"
   ]
  },
  {
   "cell_type": "code",
   "execution_count": null,
   "id": "657d2c1e",
   "metadata": {},
   "outputs": [],
   "source": [
    "dt.append(SingleframeSynapse())"
   ]
  },
  {
   "cell_type": "code",
   "execution_count": null,
   "id": "be213d9e",
   "metadata": {},
   "outputs": [],
   "source": [
    "dt.append(MultiframeSynapse())"
   ]
  },
  {
   "cell_type": "code",
   "execution_count": null,
   "id": "6d737ba1",
   "metadata": {},
   "outputs": [],
   "source": [
    "dt[0].rois.append(PolygonalSynapseROI())"
   ]
  },
  {
   "cell_type": "code",
   "execution_count": null,
   "id": "731dbe42",
   "metadata": {},
   "outputs": [],
   "source": [
    "dt[3].rois.append(CircularSynapseROI().set_location(x=10,y=20).set_radius(10).set_frame(0))"
   ]
  },
  {
   "cell_type": "code",
   "execution_count": null,
   "id": "ca704bdc",
   "metadata": {},
   "outputs": [],
   "source": [
    "for s in dt:\n",
    "    print(repr(s))"
   ]
  },
  {
   "cell_type": "code",
   "execution_count": null,
   "id": "ea60e005",
   "metadata": {},
   "outputs": [],
   "source": [
    "dt[0].staged = False"
   ]
  },
  {
   "cell_type": "code",
   "execution_count": null,
   "id": "7eda292f",
   "metadata": {},
   "outputs": [],
   "source": [
    "dt.clear_where(lambda s: not s.staged)"
   ]
  }
 ],
 "metadata": {
  "kernelspec": {
   "display_name": "neurotorch",
   "language": "python",
   "name": "python3"
  },
  "language_info": {
   "codemirror_mode": {
    "name": "ipython",
    "version": 3
   },
   "file_extension": ".py",
   "mimetype": "text/x-python",
   "name": "python",
   "nbconvert_exporter": "python",
   "pygments_lexer": "ipython3",
   "version": "3.12.7"
  }
 },
 "nbformat": 4,
 "nbformat_minor": 5
}
